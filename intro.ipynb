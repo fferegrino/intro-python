{
 "cells": [
  {
   "cell_type": "markdown",
   "metadata": {
    "id": "grZW3l0oravI",
    "slideshow": {
     "slide_type": "slide"
    }
   },
   "source": [
    "# Introduction to Python"
   ]
  },
  {
   "cell_type": "markdown",
   "metadata": {
    "id": "6wF0izNVr3U3",
    "slideshow": {
     "slide_type": "slide"
    }
   },
   "source": [
    "## Numbers\n"
   ]
  },
  {
   "cell_type": "code",
   "execution_count": null,
   "metadata": {
    "id": "UjLpBXDvr2mp",
    "slideshow": {
     "slide_type": "fragment"
    }
   },
   "outputs": [],
   "source": [
    "# Different kinds of numbers \n",
    "a = 1\n",
    "b = 1.5\n",
    "c = 2 + 3j®"
   ]
  },
  {
   "cell_type": "code",
   "execution_count": null,
   "metadata": {
    "id": "tx_KOVk2r1rF",
    "slideshow": {
     "slide_type": "fragment"
    }
   },
   "outputs": [],
   "source": [
    "# One million!\n",
    "d = 0xF4240\n",
    "e = 1_000_000\n",
    "f = 1e6"
   ]
  },
  {
   "cell_type": "markdown",
   "metadata": {
    "id": "zE_16Y7XsdIv",
    "slideshow": {
     "slide_type": "slide"
    }
   },
   "source": [
    "## Strings"
   ]
  },
  {
   "cell_type": "code",
   "execution_count": null,
   "metadata": {
    "id": "WiSztcmysVGM",
    "slideshow": {
     "slide_type": "fragment"
    }
   },
   "outputs": [],
   "source": [
    "g = '0'\n",
    "h = \"double\"\n",
    "i = 'single'\n",
    "j = \"\"\"multi\n",
    "line\n",
    "string\"\"\""
   ]
  },
  {
   "cell_type": "code",
   "execution_count": null,
   "metadata": {
    "id": "QfS2wWHHv-3X",
    "slideshow": {
     "slide_type": "fragment"
    }
   },
   "outputs": [],
   "source": [
    "k = str(a)\n",
    "l = h + ' ' + i + ' ' + str(a)"
   ]
  },
  {
   "cell_type": "markdown",
   "metadata": {
    "id": "qaD7gxfiv2bJ",
    "slideshow": {
     "slide_type": "slide"
    }
   },
   "source": [
    "## Booleans"
   ]
  },
  {
   "cell_type": "code",
   "execution_count": null,
   "metadata": {
    "id": "_lTwETCzv2DF",
    "slideshow": {
     "slide_type": "fragment"
    }
   },
   "outputs": [],
   "source": [
    "m = True\n",
    "n = False\n",
    "o = f == e"
   ]
  },
  {
   "cell_type": "markdown",
   "metadata": {
    "id": "q4UmKW9ezdX7",
    "slideshow": {
     "slide_type": "slide"
    }
   },
   "source": [
    "## Sequences"
   ]
  },
  {
   "cell_type": "code",
   "execution_count": null,
   "metadata": {
    "id": "Phz6pmG-sXT2",
    "slideshow": {
     "slide_type": "fragment"
    }
   },
   "outputs": [],
   "source": [
    "n = [1, 2, 3] # List, we can add more things to it\n",
    "o = (1, 2, 3) # Tuple, this one is fixed\n",
    "p = {1, 2, 3} # Set, contains no repeated elements\n",
    "q = {\"one\": 1, \"two\":2, \"three\":3} # Dictionary, key-value pairs"
   ]
  },
  {
   "cell_type": "markdown",
   "metadata": {
    "id": "1ScFRRsv7u7p",
    "slideshow": {
     "slide_type": "slide"
    }
   },
   "source": [
    "## Python is...\n",
    "\n",
    " - _Interpreted_: it is executed as it is read (it makes it a bit slow)\n",
    " - _Dynamically typed_: we don't need to define data types ahead of time\n",
    " - _Strongly typed_: types are enforced when necessary (i.e. can't concatenate ints and strings)"
   ]
  },
  {
   "cell_type": "markdown",
   "metadata": {
    "slideshow": {
     "slide_type": "slide"
    }
   },
   "source": [
    "## Showing data\n",
    "\n",
    " - Use the `print` function:"
   ]
  },
  {
   "cell_type": "code",
   "execution_count": null,
   "metadata": {},
   "outputs": [],
   "source": [
    "print(a)\n",
    "print(l)\n",
    "print(\"Hello world!\")"
   ]
  },
  {
   "cell_type": "markdown",
   "metadata": {
    "id": "pf63XG1B-qJi",
    "slideshow": {
     "slide_type": "slide"
    }
   },
   "source": [
    "## Flow control"
   ]
  },
  {
   "cell_type": "markdown",
   "metadata": {
    "id": "3CFyMY-0xHg9",
    "slideshow": {
     "slide_type": "subslide"
    }
   },
   "source": [
    "### `if` statement"
   ]
  },
  {
   "cell_type": "code",
   "execution_count": null,
   "metadata": {
    "slideshow": {
     "slide_type": "fragment"
    }
   },
   "outputs": [],
   "source": [
    "a = 1\n",
    "b = 2\n",
    "c = 3\n",
    "if a < b:\n",
    "    print('a = ' + str(a) + \" is smaller than b = \" + str(b))"
   ]
  },
  {
   "cell_type": "code",
   "execution_count": null,
   "metadata": {
    "slideshow": {
     "slide_type": "fragment"
    }
   },
   "outputs": [],
   "source": [
    "if b < a:\n",
    "    print('b = ' + str(b) + \" is smaller than a = \" + str(a))\n",
    "else:\n",
    "    print('b = ' + str(b) + \" is bigger than or equal to a = \" + str(a))"
   ]
  },
  {
   "cell_type": "markdown",
   "metadata": {
    "slideshow": {
     "slide_type": "slide"
    }
   },
   "source": [
    "### Python and indentation\n",
    "\n",
    " - In Python, scopes are defined by indentation\n",
    " - Does not matter how many spces, as long as it is consistent\n",
    " - But the recommended is **4 spaces**"
   ]
  },
  {
   "cell_type": "markdown",
   "metadata": {
    "slideshow": {
     "slide_type": "slide"
    }
   },
   "source": [
    "### `for` loops"
   ]
  },
  {
   "cell_type": "code",
   "execution_count": null,
   "metadata": {
    "slideshow": {
     "slide_type": "fragment"
    }
   },
   "outputs": [],
   "source": [
    "fruits = [\"apple\", \"banana\", \"orange\"]\n",
    "for fruit in fruits:\n",
    "    print(fruit)"
   ]
  },
  {
   "cell_type": "code",
   "execution_count": null,
   "metadata": {
    "slideshow": {
     "slide_type": "fragment"
    }
   },
   "outputs": [],
   "source": [
    "for number in range(10):\n",
    "    print(number, end=', ')"
   ]
  },
  {
   "cell_type": "markdown",
   "metadata": {
    "slideshow": {
     "slide_type": "slide"
    }
   },
   "source": [
    "### `while` loops"
   ]
  },
  {
   "cell_type": "code",
   "execution_count": null,
   "metadata": {
    "slideshow": {
     "slide_type": "fragment"
    }
   },
   "outputs": [],
   "source": [
    "i = 0\n",
    "while i < 10:\n",
    "    print(i)\n",
    "    i = i + 1"
   ]
  },
  {
   "cell_type": "markdown",
   "metadata": {},
   "source": [
    "### `break`-ing and `continue`-ing"
   ]
  },
  {
   "cell_type": "code",
   "execution_count": null,
   "metadata": {},
   "outputs": [],
   "source": [
    "i = 0\n",
    "for i in range(1_000_000):\n",
    "    \n",
    "    if i == 10:\n",
    "        break\n",
    "    \n",
    "    if (i % 2) == 0:\n",
    "        continue\n",
    "    \n",
    "\n",
    "    print(str(i) + \" is odd\")"
   ]
  },
  {
   "cell_type": "markdown",
   "metadata": {},
   "source": [
    "## Functions"
   ]
  },
  {
   "cell_type": "code",
   "execution_count": null,
   "metadata": {},
   "outputs": [],
   "source": [
    "def do_something():\n",
    "    print(\"Hello\")\n",
    "\n",
    "do_something()"
   ]
  },
  {
   "cell_type": "code",
   "execution_count": null,
   "metadata": {},
   "outputs": [],
   "source": [
    "def add(number1, number2):\n",
    "    result = number1 + number2\n",
    "    return result\n",
    "\n",
    "new_number = add(1, 2)\n",
    "print(new_number)"
   ]
  },
  {
   "cell_type": "code",
   "execution_count": null,
   "metadata": {},
   "outputs": [],
   "source": [
    "add(add(1, 1), add(1, 1))"
   ]
  },
  {
   "cell_type": "code",
   "execution_count": null,
   "metadata": {},
   "outputs": [],
   "source": []
  }
 ],
 "metadata": {
  "celltoolbar": "Slideshow",
  "colab": {
   "collapsed_sections": [],
   "name": "intro.ipynb",
   "provenance": []
  },
  "kernelspec": {
   "display_name": "Python 3 (ipykernel)",
   "language": "python",
   "name": "python3"
  },
  "language_info": {
   "codemirror_mode": {
    "name": "ipython",
    "version": 3
   },
   "file_extension": ".py",
   "mimetype": "text/x-python",
   "name": "python",
   "nbconvert_exporter": "python",
   "pygments_lexer": "ipython3",
   "version": "3.8.11"
  },
  "rise": {
   "height": "100%",
   "theme": "serif",
   "width": "80%"
  }
 },
 "nbformat": 4,
 "nbformat_minor": 4
}
